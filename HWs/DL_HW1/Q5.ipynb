{
  "nbformat": 4,
  "nbformat_minor": 0,
  "metadata": {
    "colab": {
      "provenance": []
    },
    "kernelspec": {
      "name": "python3",
      "display_name": "Python 3"
    },
    "language_info": {
      "name": "python"
    }
  },
  "cells": [
    {
      "cell_type": "code",
      "source": [
        "import torch\n",
        "from torchvision import transforms\n",
        "from torchvision.datasets import ImageFolder\n",
        "from torch.utils.data import DataLoader\n",
        "import torch.nn as nn"
      ],
      "metadata": {
        "id": "xkpxatTVSJ7E"
      },
      "execution_count": 42,
      "outputs": []
    },
    {
      "cell_type": "code",
      "source": [
        "class SimpleMLP(nn.Module):\n",
        "    def __init__(self, input_size, hidden_size, output_size):\n",
        "        super(SimpleMLP, self).__init__()\n",
        "        self.fc1 = nn.Linear(input_size, hidden_size)\n",
        "        self.relu = nn.ReLU()\n",
        "        self.fc2 = nn.Linear(hidden_size, output_size)\n",
        "\n",
        "    def forward(self, x):\n",
        "        x = self.fc1(x)\n",
        "        x = self.relu(x)\n",
        "        x = self.fc2(x)\n",
        "        return x\n"
      ],
      "metadata": {
        "id": "5fdXy0QtPEiC"
      },
      "execution_count": 43,
      "outputs": []
    },
    {
      "cell_type": "code",
      "source": [
        "input_size = 64 * 64 * 3\n",
        "hidden_size = 128\n",
        "output_size = 3\n",
        "model = SimpleMLP(input_size, hidden_size, output_size)\n",
        "criterion = nn.CrossEntropyLoss()\n",
        "optimizer = torch.optim.Adam(model.parameters(), lr=0.001)\n",
        "\n",
        "\n",
        "num_epochs = 100\n",
        "for epoch in range(num_epochs):\n",
        "    for images, labels in dataloader:\n",
        "        images = images.view(images.size(0), -1)\n",
        "        outputs = model(images)\n",
        "        loss = criterion(outputs, labels)\n",
        "        optimizer.zero_grad()\n",
        "        loss.backward()\n",
        "        optimizer.step()\n",
        "\n",
        "    print(f'Epoch [{epoch+1}/{num_epochs}], Loss: {loss.item()}')\n",
        "\n",
        "\n"
      ],
      "metadata": {
        "colab": {
          "base_uri": "https://localhost:8080/"
        },
        "id": "SpyP4cVtPLM3",
        "outputId": "dd57bd3e-4ef8-4174-de15-f3f88d7ee364"
      },
      "execution_count": 46,
      "outputs": [
        {
          "output_type": "stream",
          "name": "stdout",
          "text": [
            "Epoch [1/100], Loss: 18.209270477294922\n",
            "Epoch [2/100], Loss: 1.6723655462265015\n",
            "Epoch [3/100], Loss: 0.05405053123831749\n",
            "Epoch [4/100], Loss: 0.24812659621238708\n",
            "Epoch [5/100], Loss: 0.7612922191619873\n",
            "Epoch [6/100], Loss: 0.3180766999721527\n",
            "Epoch [7/100], Loss: 0.25566160678863525\n",
            "Epoch [8/100], Loss: 0.30795222520828247\n",
            "Epoch [9/100], Loss: 0.2983085811138153\n",
            "Epoch [10/100], Loss: 0.2152969092130661\n",
            "Epoch [11/100], Loss: 0.14863359928131104\n",
            "Epoch [12/100], Loss: 0.111147440969944\n",
            "Epoch [13/100], Loss: 0.08317121863365173\n",
            "Epoch [14/100], Loss: 0.06546361744403839\n",
            "Epoch [15/100], Loss: 0.058687347918748856\n",
            "Epoch [16/100], Loss: 0.0607328861951828\n",
            "Epoch [17/100], Loss: 0.0625317245721817\n",
            "Epoch [18/100], Loss: 0.060279443860054016\n",
            "Epoch [19/100], Loss: 0.05457114800810814\n",
            "Epoch [20/100], Loss: 0.04694589599967003\n",
            "Epoch [21/100], Loss: 0.041189245879650116\n",
            "Epoch [22/100], Loss: 0.037900250405073166\n",
            "Epoch [23/100], Loss: 0.03609204664826393\n",
            "Epoch [24/100], Loss: 0.034880995750427246\n",
            "Epoch [25/100], Loss: 0.03364438936114311\n",
            "Epoch [26/100], Loss: 0.03208097442984581\n",
            "Epoch [27/100], Loss: 0.030229477211833\n",
            "Epoch [28/100], Loss: 0.028243599459528923\n",
            "Epoch [29/100], Loss: 0.026297427713871002\n",
            "Epoch [30/100], Loss: 0.024501603096723557\n",
            "Epoch [31/100], Loss: 0.022932907566428185\n",
            "Epoch [32/100], Loss: 0.02161470055580139\n",
            "Epoch [33/100], Loss: 0.02051784284412861\n",
            "Epoch [34/100], Loss: 0.01958765834569931\n",
            "Epoch [35/100], Loss: 0.018777349963784218\n",
            "Epoch [36/100], Loss: 0.018022937700152397\n",
            "Epoch [37/100], Loss: 0.017286701127886772\n",
            "Epoch [38/100], Loss: 0.01655789650976658\n",
            "Epoch [39/100], Loss: 0.015839941799640656\n",
            "Epoch [40/100], Loss: 0.015143544413149357\n",
            "Epoch [41/100], Loss: 0.01448038499802351\n",
            "Epoch [42/100], Loss: 0.01385911088436842\n",
            "Epoch [43/100], Loss: 0.013289328664541245\n",
            "Epoch [44/100], Loss: 0.01276418287307024\n",
            "Epoch [45/100], Loss: 0.012277268804609776\n",
            "Epoch [46/100], Loss: 0.01182475220412016\n",
            "Epoch [47/100], Loss: 0.011402321979403496\n",
            "Epoch [48/100], Loss: 0.011012726463377476\n",
            "Epoch [49/100], Loss: 0.010683484375476837\n",
            "Epoch [50/100], Loss: 0.010352365672588348\n",
            "Epoch [51/100], Loss: 0.009886583313345909\n",
            "Epoch [52/100], Loss: 0.00943204015493393\n",
            "Epoch [53/100], Loss: 0.009064593352377415\n",
            "Epoch [54/100], Loss: 0.008771933615207672\n",
            "Epoch [55/100], Loss: 0.008480961434543133\n",
            "Epoch [56/100], Loss: 0.008225374855101109\n",
            "Epoch [57/100], Loss: 0.008016908541321754\n",
            "Epoch [58/100], Loss: 0.007837614975869656\n",
            "Epoch [59/100], Loss: 0.00767201092094183\n",
            "Epoch [60/100], Loss: 0.00743089010939002\n",
            "Epoch [61/100], Loss: 0.007161660585552454\n",
            "Epoch [62/100], Loss: 0.0069290585815906525\n",
            "Epoch [63/100], Loss: 0.006742583122104406\n",
            "Epoch [64/100], Loss: 0.006589232943952084\n",
            "Epoch [65/100], Loss: 0.006455994211137295\n",
            "Epoch [66/100], Loss: 0.0063323331996798515\n",
            "Epoch [67/100], Loss: 0.006148352753371\n",
            "Epoch [68/100], Loss: 0.005962797906249762\n",
            "Epoch [69/100], Loss: 0.0057769715785980225\n",
            "Epoch [70/100], Loss: 0.0056143454276025295\n",
            "Epoch [71/100], Loss: 0.005484059453010559\n",
            "Epoch [72/100], Loss: 0.0053761666640639305\n",
            "Epoch [73/100], Loss: 0.00528569333255291\n",
            "Epoch [74/100], Loss: 0.005209443159401417\n",
            "Epoch [75/100], Loss: 0.005085864569991827\n",
            "Epoch [76/100], Loss: 0.004930362105369568\n",
            "Epoch [77/100], Loss: 0.004791326355189085\n",
            "Epoch [78/100], Loss: 0.0046775443479418755\n",
            "Epoch [79/100], Loss: 0.004582499153912067\n",
            "Epoch [80/100], Loss: 0.0045006172731518745\n",
            "Epoch [81/100], Loss: 0.00442656222730875\n",
            "Epoch [82/100], Loss: 0.004356062039732933\n",
            "Epoch [83/100], Loss: 0.004232259467244148\n",
            "Epoch [84/100], Loss: 0.004106423351913691\n",
            "Epoch [85/100], Loss: 0.00400799885392189\n",
            "Epoch [86/100], Loss: 0.003936519380658865\n",
            "Epoch [87/100], Loss: 0.0038766723591834307\n",
            "Epoch [88/100], Loss: 0.003822284284979105\n",
            "Epoch [89/100], Loss: 0.003770268289372325\n",
            "Epoch [90/100], Loss: 0.003689864184707403\n",
            "Epoch [91/100], Loss: 0.003591992659494281\n",
            "Epoch [92/100], Loss: 0.0035076539497822523\n",
            "Epoch [93/100], Loss: 0.0034640564117580652\n",
            "Epoch [94/100], Loss: 0.003424139926210046\n",
            "Epoch [95/100], Loss: 0.003382914699614048\n",
            "Epoch [96/100], Loss: 0.003340618684887886\n",
            "Epoch [97/100], Loss: 0.003299390198662877\n",
            "Epoch [98/100], Loss: 0.0032613680232316256\n",
            "Epoch [99/100], Loss: 0.0031822300516068935\n",
            "Epoch [100/100], Loss: 0.003095598891377449\n"
          ]
        }
      ]
    },
    {
      "cell_type": "code",
      "source": [
        "model.eval()\n",
        "\n",
        "correct = 0\n",
        "total = 0\n",
        "\n",
        "\n",
        "with torch.no_grad():\n",
        "    for images, labels in dataloader:\n",
        "        images = images.view(images.size(0), -1)\n",
        "        outputs = model(images)\n",
        "        _, predicted = torch.max(outputs, 1)\n",
        "        total += labels.size(0)\n",
        "        correct += (predicted == labels).sum().item()\n",
        "\n",
        "accuracy = 100 * correct / total\n",
        "print(f\"Accuracy on the training data: {accuracy:.2f}%\")\n"
      ],
      "metadata": {
        "colab": {
          "base_uri": "https://localhost:8080/"
        },
        "id": "6wsVTtd3PN22",
        "outputId": "e4852afb-f771-4baa-e7a0-26d8b9b18684"
      },
      "execution_count": 47,
      "outputs": [
        {
          "output_type": "stream",
          "name": "stdout",
          "text": [
            "Accuracy on the training data: 100.00%\n"
          ]
        }
      ]
    }
  ]
}