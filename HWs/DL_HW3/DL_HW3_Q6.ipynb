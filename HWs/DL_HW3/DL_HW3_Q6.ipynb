{
  "nbformat": 4,
  "nbformat_minor": 0,
  "metadata": {
    "colab": {
      "provenance": []
    },
    "kernelspec": {
      "name": "python3",
      "display_name": "Python 3"
    },
    "language_info": {
      "name": "python"
    }
  },
  "cells": [
    {
      "cell_type": "code",
      "execution_count": 4,
      "metadata": {
        "colab": {
          "base_uri": "https://localhost:8080/"
        },
        "id": "uN2xTUiBd4OC",
        "outputId": "7175b550-c6eb-4b6d-ada9-61c9d6bd4f7f"
      },
      "outputs": [
        {
          "output_type": "stream",
          "name": "stdout",
          "text": [
            "Model: \"sequential_3\"\n",
            "_________________________________________________________________\n",
            " Layer (type)                Output Shape              Param #   \n",
            "=================================================================\n",
            " conv2d_3 (Conv2D)           (None, None, None, 1)     4         \n",
            "                                                                 \n",
            "=================================================================\n",
            "Total params: 4 (16.00 Byte)\n",
            "Trainable params: 4 (16.00 Byte)\n",
            "Non-trainable params: 0 (0.00 Byte)\n",
            "_________________________________________________________________\n",
            "1/1 [==============================] - 0s 53ms/step\n",
            "Input size: (1, 4, 4, 3)\n",
            "Output size: (1, 4, 4, 1)\n"
          ]
        }
      ],
      "source": [
        "import tensorflow as tf\n",
        "from tensorflow.keras import layers, models\n",
        "import numpy as np\n",
        "\n",
        "# Create a simple convolutional model with a 1x1 filter\n",
        "model = models.Sequential()\n",
        "model.add(layers.Conv2D(filters=1, kernel_size=(1, 1), input_shape=(None, None, 3)))\n",
        "\n",
        "# Display the model summary\n",
        "model.summary()\n",
        "\n",
        "# Create an arbitrary input (e.g., a 4x4 RGB image)\n",
        "input_data = np.random.rand(1, 4, 4, 3)  # Batch size 1, 4x4 image with 3 channels (RGB)\n",
        "\n",
        "# Get the model output\n",
        "output_data = model.predict(input_data)\n",
        "\n",
        "# Display input and output size\n",
        "print(f\"Input size: {input_data.shape}\")\n",
        "print(f\"Output size: {output_data.shape}\")\n"
      ]
    },
    {
      "cell_type": "code",
      "source": [],
      "metadata": {
        "id": "5u1DEVLxd559"
      },
      "execution_count": null,
      "outputs": []
    }
  ]
}